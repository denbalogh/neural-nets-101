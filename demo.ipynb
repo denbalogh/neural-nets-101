{
 "cells": [
  {
   "cell_type": "code",
   "execution_count": 1,
   "metadata": {},
   "outputs": [],
   "source": [
    "from src.nn import MLP\n",
    "from src.training import train, cross_entropy, backpropagate\n",
    "from src.graph import get_graph"
   ]
  },
  {
   "cell_type": "code",
   "execution_count": 2,
   "metadata": {},
   "outputs": [],
   "source": [
    "model = MLP(5, [5, 5, 1])"
   ]
  },
  {
   "cell_type": "code",
   "execution_count": 3,
   "metadata": {},
   "outputs": [
    {
     "name": "stdout",
     "output_type": "stream",
     "text": [
      "Epoch 0, loss 0.0189\n"
     ]
    }
   ],
   "source": [
    "data = [\n",
    "    ([1, 0, 1, 0, 1], [1]), \n",
    "    ([0, 1, 0, 1, 0], [0])\n",
    "]\n",
    "\n",
    "loss = 0\n",
    "for i in range(10):\n",
    "    for x, y in data:\n",
    "        loss = train(model, x, y, lr=0.001)\n",
    "    if i % 100 == 0:\n",
    "        print(f'Epoch {i}, loss {loss.data:.4f}')"
   ]
  },
  {
   "cell_type": "code",
   "execution_count": 4,
   "metadata": {},
   "outputs": [
    {
     "name": "stdout",
     "output_type": "stream",
     "text": [
      "Input: [1, 0, 1, 0, 1], label: 1, prediction: 0.9467\n",
      "Input: [0, 1, 0, 1, 0], label: 0, prediction: 0.0014\n"
     ]
    }
   ],
   "source": [
    "for x, y in data:\n",
    "    y_pred = model.forward(x)\n",
    "    print(f'Input: {x}, label: {y[0]}, prediction: {y_pred[0].data:.4f}')"
   ]
  },
  {
   "cell_type": "code",
   "execution_count": 2,
   "metadata": {},
   "outputs": [],
   "source": [
    "model = MLP(6, [5, 3], last_activation='softmax')\n",
    "x = [1, 0, 1, 0, 1, 0]\n",
    "y_label = [1, 0, 0]\n",
    "y = model.forward(x)\n",
    "loss = cross_entropy(y, y_label)\n",
    "backpropagate(loss)"
   ]
  }
 ],
 "metadata": {
  "kernelspec": {
   "display_name": "Python 3.8.3 ('venv': venv)",
   "language": "python",
   "name": "python3"
  },
  "language_info": {
   "codemirror_mode": {
    "name": "ipython",
    "version": 3
   },
   "file_extension": ".py",
   "mimetype": "text/x-python",
   "name": "python",
   "nbconvert_exporter": "python",
   "pygments_lexer": "ipython3",
   "version": "3.8.3"
  },
  "vscode": {
   "interpreter": {
    "hash": "96cf91b34d9ac1af7cbc731333a7ff137dccdd1d809803b47c787e51e4ee9fed"
   }
  }
 },
 "nbformat": 4,
 "nbformat_minor": 2
}
