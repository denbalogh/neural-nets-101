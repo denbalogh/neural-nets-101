{
 "cells": [
  {
   "cell_type": "code",
   "execution_count": 44,
   "metadata": {},
   "outputs": [],
   "source": [
    "import pandas as pd\n",
    "import matplotlib.pyplot as plt\n",
    "import seaborn as sns\n",
    "\n",
    "import numpy as np\n",
    "\n",
    "from sklearn.pipeline import Pipeline\n",
    "from sklearn.preprocessing import OneHotEncoder\n",
    "from sklearn.preprocessing import StandardScaler\n",
    "from sklearn.impute import KNNImputer, SimpleImputer\n",
    "from sklearn.compose import ColumnTransformer\n",
    "from sklearn.model_selection import StratifiedShuffleSplit\n",
    "from sklearn.base import BaseEstimator, TransformerMixin"
   ]
  },
  {
   "cell_type": "code",
   "execution_count": 45,
   "metadata": {},
   "outputs": [],
   "source": [
    "test_raw = pd.read_csv('raw_data/test.csv')\n",
    "train_raw = pd.read_csv('raw_data/train.csv')"
   ]
  },
  {
   "cell_type": "code",
   "execution_count": 46,
   "metadata": {},
   "outputs": [],
   "source": [
    "split = StratifiedShuffleSplit(n_splits=1, test_size=0.2)\n",
    "\n",
    "for train_index, test_index in split.split(train_raw, train_raw[['Survived', 'Pclass', 'Sex']]):\n",
    "    train_set = train_raw.loc[train_index]\n",
    "    val_set = train_raw.loc[test_index]\n",
    "\n",
    "train_X, train_y = train_set.drop(['Survived'], axis=1), train_set['Survived']\n",
    "val_X, val_y = val_set.drop(['Survived'], axis=1), val_set['Survived']"
   ]
  },
  {
   "cell_type": "code",
   "execution_count": 47,
   "metadata": {},
   "outputs": [],
   "source": [
    "numeric_features = ['Age', 'Fare', 'SibSp', 'Parch']\n",
    "cat_features = ['Sex', 'Embarked', 'Pclass']"
   ]
  },
  {
   "cell_type": "code",
   "execution_count": 48,
   "metadata": {},
   "outputs": [],
   "source": [
    "class FeatureDropperAndCategorySetter(BaseEstimator, TransformerMixin):\n",
    "\n",
    "    def fit(self, X, y=None):\n",
    "        return self\n",
    "    \n",
    "    def transform(self, X):\n",
    "        # Set categorical features\n",
    "        X[cat_features] = X[cat_features].astype('category')\n",
    "        # Drop useless features\n",
    "        return X.drop(['Name', 'Ticket', 'Cabin', 'PassengerId'], axis=1)"
   ]
  },
  {
   "cell_type": "code",
   "execution_count": 49,
   "metadata": {},
   "outputs": [],
   "source": [
    "categorical_transformer = Pipeline(\n",
    "    steps=[\n",
    "        (\"imputer\", SimpleImputer(strategy='most_frequent')),\n",
    "        (\"encoder\", OneHotEncoder()),\n",
    "    ]\n",
    ")"
   ]
  },
  {
   "cell_type": "code",
   "execution_count": 50,
   "metadata": {},
   "outputs": [],
   "source": [
    "numeric_transformer = Pipeline(\n",
    "    steps=[\n",
    "        (\"imputer\", KNNImputer(n_neighbors=5)), \n",
    "    ]\n",
    ")"
   ]
  },
  {
   "cell_type": "code",
   "execution_count": 51,
   "metadata": {},
   "outputs": [],
   "source": [
    "pipe = Pipeline(\n",
    "    steps=[\n",
    "        ('dropper', FeatureDropperAndCategorySetter()),\n",
    "        ('preprocessor', ColumnTransformer(\n",
    "            transformers=[\n",
    "                ('num', numeric_transformer, numeric_features),\n",
    "                ('cat', categorical_transformer, cat_features),\n",
    "            ],\n",
    "            remainder='passthrough'\n",
    "        )),\n",
    "        (\"scaler\", StandardScaler()),\n",
    "    ]\n",
    ")"
   ]
  },
  {
   "cell_type": "code",
   "execution_count": 52,
   "metadata": {},
   "outputs": [
    {
     "data": {
      "text/plain": [
       "array([[-0.69141088,  4.54772632,  1.38159739, ...,  1.77187327,\n",
       "        -0.51226102, -1.10679718],\n",
       "       [ 1.14389996,  0.57381132,  0.46311248, ...,  1.77187327,\n",
       "        -0.51226102, -1.10679718],\n",
       "       [ 1.58437457, -0.37769641, -0.45537243, ..., -0.56437445,\n",
       "         1.95212981, -1.10679718],\n",
       "       ...,\n",
       "       [-0.83823575, -0.47850981, -0.45537243, ..., -0.56437445,\n",
       "        -0.51226102,  0.9035079 ],\n",
       "       [-0.69141088, -0.48089574, -0.45537243, ..., -0.56437445,\n",
       "        -0.51226102,  0.9035079 ],\n",
       "       [-1.93942225, -0.30461745,  0.46311248, ..., -0.56437445,\n",
       "        -0.51226102,  0.9035079 ]])"
      ]
     },
     "execution_count": 52,
     "metadata": {},
     "output_type": "execute_result"
    }
   ],
   "source": [
    "transformed_train = pipe.fit_transform(train_X)\n",
    "transformed_train"
   ]
  },
  {
   "cell_type": "code",
   "execution_count": 53,
   "metadata": {},
   "outputs": [
    {
     "data": {
      "text/plain": [
       "array([[-0.40600161, -0.55448381, -0.5501797 , ..., -0.57089923,\n",
       "        -0.50174521,  0.89893315],\n",
       "       [ 1.64018266,  4.71210608, -0.5501797 , ...,  1.75162262,\n",
       "        -0.50174521, -1.11242977],\n",
       "       [ 0.80626605, -0.05540492, -0.5501797 , ...,  1.75162262,\n",
       "        -0.50174521, -1.11242977],\n",
       "       ...,\n",
       "       [-0.05853636,  0.52531664, -0.5501797 , ..., -0.57089923,\n",
       "        -0.50174521,  0.89893315],\n",
       "       [-0.05853636, -0.53923361,  1.1928675 , ..., -0.57089923,\n",
       "        -0.50174521,  0.89893315],\n",
       "       [-0.36739436,  0.7117074 ,  0.3213439 , ..., -0.57089923,\n",
       "         1.99304346, -1.11242977]])"
      ]
     },
     "execution_count": 53,
     "metadata": {},
     "output_type": "execute_result"
    }
   ],
   "source": [
    "transformed_val = pipe.fit_transform(val_X)\n",
    "transformed_val"
   ]
  },
  {
   "cell_type": "code",
   "execution_count": 54,
   "metadata": {},
   "outputs": [
    {
     "data": {
      "text/plain": [
       "array([[ 0.29802685, -0.49740241, -0.49947002, ..., -0.58655899,\n",
       "        -0.5349335 ,  0.95782629],\n",
       "       [ 1.26468542, -0.51226703,  0.61699237, ..., -0.58655899,\n",
       "        -0.5349335 ,  0.95782629],\n",
       "       [ 2.4246757 , -0.46408966, -0.49947002, ..., -0.58655899,\n",
       "         1.86939125, -1.04403065],\n",
       "       ...,\n",
       "       [ 0.60735759, -0.50778541, -0.49947002, ..., -0.58655899,\n",
       "        -0.5349335 ,  0.95782629],\n",
       "       [ 0.18976109, -0.49344424, -0.49947002, ..., -0.58655899,\n",
       "        -0.5349335 ,  0.95782629],\n",
       "       [-0.69956479, -0.23694703,  0.61699237, ..., -0.58655899,\n",
       "        -0.5349335 ,  0.95782629]])"
      ]
     },
     "execution_count": 54,
     "metadata": {},
     "output_type": "execute_result"
    }
   ],
   "source": [
    "transformed_test = pipe.fit_transform(test_raw)\n",
    "transformed_test"
   ]
  },
  {
   "cell_type": "code",
   "execution_count": 55,
   "metadata": {},
   "outputs": [
    {
     "data": {
      "text/plain": [
       "((712, 12), (418, 12))"
      ]
     },
     "execution_count": 55,
     "metadata": {},
     "output_type": "execute_result"
    }
   ],
   "source": [
    "transformed_train.shape, transformed_test.shape"
   ]
  },
  {
   "cell_type": "code",
   "execution_count": 56,
   "metadata": {},
   "outputs": [
    {
     "data": {
      "text/plain": [
       "742    1\n",
       "92     0\n",
       "714    0\n",
       "865    1\n",
       "433    0\n",
       "      ..\n",
       "881    0\n",
       "466    0\n",
       "566    0\n",
       "408    0\n",
       "10     1\n",
       "Name: Survived, Length: 712, dtype: int64"
      ]
     },
     "execution_count": 56,
     "metadata": {},
     "output_type": "execute_result"
    }
   ],
   "source": [
    "train_y"
   ]
  },
  {
   "cell_type": "code",
   "execution_count": 57,
   "metadata": {},
   "outputs": [],
   "source": [
    "passenger_ids = test_raw[\"PassengerId\"]"
   ]
  },
  {
   "cell_type": "code",
   "execution_count": 58,
   "metadata": {},
   "outputs": [],
   "source": [
    "np.savetxt('preprocessed_data/train_X.csv', transformed_train, delimiter=',', fmt=\"%f\")\n",
    "np.savetxt('preprocessed_data/train_y.csv', train_y, delimiter=',', fmt='%d')\n",
    "np.savetxt('preprocessed_data/val_X.csv', transformed_val, delimiter=',', fmt=\"%f\")\n",
    "np.savetxt('preprocessed_data/val_y.csv', val_y, delimiter=',', fmt='%d')\n",
    "np.savetxt('preprocessed_data/test_X.csv', transformed_test, delimiter=',', fmt=\"%f\")\n",
    "np.savetxt('preprocessed_data/passenger_ids.csv', passenger_ids, delimiter=',', fmt='%d')"
   ]
  }
 ],
 "metadata": {
  "kernelspec": {
   "display_name": "env",
   "language": "python",
   "name": "python3"
  },
  "language_info": {
   "codemirror_mode": {
    "name": "ipython",
    "version": 3
   },
   "file_extension": ".py",
   "mimetype": "text/x-python",
   "name": "python",
   "nbconvert_exporter": "python",
   "pygments_lexer": "ipython3",
   "version": "3.11.5"
  },
  "orig_nbformat": 4
 },
 "nbformat": 4,
 "nbformat_minor": 2
}
