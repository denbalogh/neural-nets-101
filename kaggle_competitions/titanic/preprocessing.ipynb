{
 "cells": [
  {
   "cell_type": "code",
   "execution_count": 2,
   "metadata": {},
   "outputs": [],
   "source": [
    "import pandas as pd\n",
    "import matplotlib.pyplot as plt\n",
    "\n",
    "import numpy as np\n",
    "\n",
    "from sklearn.impute import SimpleImputer, KNNImputer\n",
    "from sklearn.pipeline import Pipeline\n",
    "from sklearn.preprocessing import OneHotEncoder\n",
    "from sklearn.preprocessing import StandardScaler\n",
    "from sklearn.compose import ColumnTransformer"
   ]
  },
  {
   "cell_type": "code",
   "execution_count": 5,
   "metadata": {},
   "outputs": [],
   "source": [
    "test_raw = pd.read_csv('raw_data/test.csv')\n",
    "train_raw = pd.read_csv('raw_data/train.csv')"
   ]
  },
  {
   "cell_type": "code",
   "execution_count": 49,
   "metadata": {},
   "outputs": [],
   "source": [
    "useless_features = ['Name', 'Ticket', 'Cabin']\n",
    "passenger_id = 'PassengerId'\n",
    "label = 'Survived'\n",
    "\n",
    "numeric_features = ['Age', 'Fare']\n",
    "cat_features = ['Pclass', 'Sex', 'SibSp', 'Embarked', 'Parch']"
   ]
  },
  {
   "cell_type": "code",
   "execution_count": 51,
   "metadata": {},
   "outputs": [],
   "source": [
    "def cleanup(df, keepPassengerId=False):\n",
    "    if keepPassengerId:\n",
    "        df = df.drop(columns=useless_features) # drop useless columns\n",
    "    else:\n",
    "        df = df.drop(columns=[passenger_id, *useless_features]) # drop useless columns\n",
    "        \n",
    "    df = df.drop_duplicates() # drop duplicate rows\n",
    "    df[cat_features] = df[cat_features].astype('category') # convert to category\n",
    "    return df"
   ]
  },
  {
   "cell_type": "code",
   "execution_count": 52,
   "metadata": {},
   "outputs": [],
   "source": [
    "train_clean = cleanup(train_raw)"
   ]
  },
  {
   "cell_type": "code",
   "execution_count": 53,
   "metadata": {},
   "outputs": [],
   "source": [
    "train_X, train_y = train_clean.drop(columns=[label]), train_clean[label]"
   ]
  },
  {
   "cell_type": "code",
   "execution_count": 58,
   "metadata": {},
   "outputs": [
    {
     "name": "stdout",
     "output_type": "stream",
     "text": [
      "[[1, 2, 3], ['female', 'male'], [0, 1, 2, 3, 4, 5, 8], ['C', 'Q', 'S'], [0, 1, 2, 3, 4, 5, 6, 9]]\n"
     ]
    }
   ],
   "source": [
    "cat_features_categories = []\n",
    "\n",
    "for column in cat_features:\n",
    "    cats = set(train_raw[column].unique().tolist() + test_raw[column].unique().tolist())\n",
    "    cats.discard(np.nan)\n",
    "    cat_features_categories.append(sorted(list(cats)))\n",
    "    \n",
    "print(cat_features_categories)"
   ]
  },
  {
   "cell_type": "code",
   "execution_count": 59,
   "metadata": {},
   "outputs": [],
   "source": [
    "categorical_transformer = Pipeline(\n",
    "    steps=[\n",
    "        (\"imputer\", SimpleImputer(missing_values=np.NaN, strategy='most_frequent')),\n",
    "        (\"encoder\", OneHotEncoder(handle_unknown=\"ignore\", sparse_output=False, categories=cat_features_categories)),\n",
    "    ]\n",
    ")"
   ]
  },
  {
   "cell_type": "code",
   "execution_count": 60,
   "metadata": {},
   "outputs": [],
   "source": [
    "numeric_transformer = Pipeline(\n",
    "    steps=[\n",
    "        (\"imputer\", KNNImputer(missing_values=np.NaN, n_neighbors=5)), \n",
    "        (\"scaler\", StandardScaler())\n",
    "    ]\n",
    ")"
   ]
  },
  {
   "cell_type": "code",
   "execution_count": 61,
   "metadata": {},
   "outputs": [],
   "source": [
    "pipe = Pipeline(\n",
    "    steps=[\n",
    "        ('preprocessor', ColumnTransformer(\n",
    "            transformers=[\n",
    "                ('num', numeric_transformer, numeric_features),\n",
    "                ('cat', categorical_transformer, cat_features),\n",
    "            ] \n",
    "        )),\n",
    "    ]\n",
    ")"
   ]
  },
  {
   "cell_type": "code",
   "execution_count": 62,
   "metadata": {},
   "outputs": [
    {
     "data": {
      "text/plain": [
       "{'categories': [[1, 2, 3],\n",
       "  ['female', 'male'],\n",
       "  [0, 1, 2, 3, 4, 5, 8],\n",
       "  ['C', 'Q', 'S'],\n",
       "  [0, 1, 2, 3, 4, 5, 6, 9]],\n",
       " 'drop': None,\n",
       " 'dtype': numpy.float64,\n",
       " 'feature_name_combiner': 'concat',\n",
       " 'handle_unknown': 'ignore',\n",
       " 'max_categories': None,\n",
       " 'min_frequency': None,\n",
       " 'sparse': 'deprecated',\n",
       " 'sparse_output': False}"
      ]
     },
     "execution_count": 62,
     "metadata": {},
     "output_type": "execute_result"
    }
   ],
   "source": [
    "pipe.steps[0][1].transformers[1][1].steps[1][1].get_params()"
   ]
  },
  {
   "cell_type": "code",
   "execution_count": 63,
   "metadata": {},
   "outputs": [],
   "source": [
    "transformed_train = pipe.fit_transform(train_X)"
   ]
  },
  {
   "cell_type": "code",
   "execution_count": 64,
   "metadata": {},
   "outputs": [],
   "source": [
    "test_clean = cleanup(test_raw, keepPassengerId=True)\n",
    "test_X, passenger_ids = test_clean.drop(columns=[passenger_id]), test_clean[passenger_id]\n",
    "transformed_test = pipe.fit_transform(test_X)"
   ]
  },
  {
   "cell_type": "code",
   "execution_count": 66,
   "metadata": {},
   "outputs": [
    {
     "data": {
      "text/plain": [
       "((780, 25), (418, 25))"
      ]
     },
     "execution_count": 66,
     "metadata": {},
     "output_type": "execute_result"
    }
   ],
   "source": [
    "transformed_train.shape, transformed_test.shape"
   ]
  },
  {
   "cell_type": "code",
   "execution_count": 65,
   "metadata": {},
   "outputs": [
    {
     "data": {
      "text/plain": [
       "array([ 0.37270783, -0.50073294,  0.        ,  0.        ,  1.        ,\n",
       "        0.        ,  1.        ,  1.        ,  0.        ,  0.        ,\n",
       "        0.        ,  0.        ,  0.        ,  0.        ,  0.        ,\n",
       "        1.        ,  0.        ,  1.        ,  0.        ,  0.        ,\n",
       "        0.        ,  0.        ,  0.        ,  0.        ,  0.        ])"
      ]
     },
     "execution_count": 65,
     "metadata": {},
     "output_type": "execute_result"
    }
   ],
   "source": [
    "transformed_test[0]"
   ]
  },
  {
   "cell_type": "code",
   "execution_count": 68,
   "metadata": {},
   "outputs": [],
   "source": [
    "np.savetxt('preprocessed_data/train_X.csv', transformed_train, delimiter=',', fmt=['%f'] * 2 + ['%d'] * 23)\n",
    "np.savetxt('preprocessed_data/train_y.csv', train_y, delimiter=',', fmt='%d')\n",
    "np.savetxt('preprocessed_data/test_X.csv', transformed_test, delimiter=',', fmt=['%f'] * 2 + ['%d'] * 23)\n",
    "np.savetxt('preprocessed_data/passenger_ids.csv', passenger_ids, delimiter=',', fmt='%d')"
   ]
  }
 ],
 "metadata": {
  "kernelspec": {
   "display_name": "env",
   "language": "python",
   "name": "python3"
  },
  "language_info": {
   "codemirror_mode": {
    "name": "ipython",
    "version": 3
   },
   "file_extension": ".py",
   "mimetype": "text/x-python",
   "name": "python",
   "nbconvert_exporter": "python",
   "pygments_lexer": "ipython3",
   "version": "3.8.3"
  },
  "orig_nbformat": 4
 },
 "nbformat": 4,
 "nbformat_minor": 2
}
